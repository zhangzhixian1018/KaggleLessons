{
 "cells": [
  {
   "cell_type": "code",
   "execution_count": 1,
   "metadata": {},
   "outputs": [],
   "source": [
    "import pandas as pd\n",
    "import numpy as np\n",
    "import matplotlib as plt\n",
    "from sklearn.linear_model import LinearRegression\n"
   ]
  },
  {
   "cell_type": "code",
   "execution_count": 2,
   "metadata": {},
   "outputs": [],
   "source": [
    "train = pd.read_csv('height_train.csv')\n",
    "test = pd.read_csv('height_test.csv')\n",
    "#print(train[:20])"
   ]
  },
  {
   "cell_type": "code",
   "execution_count": 3,
   "metadata": {},
   "outputs": [],
   "source": [
    "model = LinearRegression()"
   ]
  },
  {
   "cell_type": "code",
   "execution_count": 4,
   "metadata": {},
   "outputs": [],
   "source": [
    "x1=round((train['father_height']-train['child_height'])/(train['father_height']*train['father_height']), 5)*train['boy_dummy']"
   ]
  },
  {
   "cell_type": "code",
   "execution_count": 5,
   "metadata": {},
   "outputs": [
    {
     "data": {
      "text/plain": [
       "LinearRegression(copy_X=True, fit_intercept=True, n_jobs=None,\n",
       "         normalize=False)"
      ]
     },
     "execution_count": 5,
     "metadata": {},
     "output_type": "execute_result"
    }
   ],
   "source": [
    "model.fit(X=train.loc[:,['father_height','mother_height','boy_dummy',]], y=train.child_height+x1)"
   ]
  },
  {
   "cell_type": "code",
   "execution_count": 6,
   "metadata": {},
   "outputs": [
    {
     "data": {
      "text/plain": [
       "array([0.3595987 , 0.21960171, 0.09404248])"
      ]
     },
     "execution_count": 6,
     "metadata": {},
     "output_type": "execute_result"
    }
   ],
   "source": [
    "model.coef_"
   ]
  },
  {
   "cell_type": "code",
   "execution_count": 7,
   "metadata": {},
   "outputs": [
    {
     "data": {
      "text/plain": [
       "0.669216853897165"
      ]
     },
     "execution_count": 7,
     "metadata": {},
     "output_type": "execute_result"
    }
   ],
   "source": [
    "model.intercept_"
   ]
  },
  {
   "cell_type": "code",
   "execution_count": 8,
   "metadata": {},
   "outputs": [],
   "source": [
    "test['prediction'] = 0.3595987*test.father_height+0.21960171*test.mother_height+0.09404248*test.boy_dummy+0.669216853897165 "
   ]
  },
  {
   "cell_type": "code",
   "execution_count": 9,
   "metadata": {},
   "outputs": [
    {
     "data": {
      "text/html": [
       "<div>\n",
       "<style scoped>\n",
       "    .dataframe tbody tr th:only-of-type {\n",
       "        vertical-align: middle;\n",
       "    }\n",
       "\n",
       "    .dataframe tbody tr th {\n",
       "        vertical-align: top;\n",
       "    }\n",
       "\n",
       "    .dataframe thead th {\n",
       "        text-align: right;\n",
       "    }\n",
       "</style>\n",
       "<table border=\"1\" class=\"dataframe\">\n",
       "  <thead>\n",
       "    <tr style=\"text-align: right;\">\n",
       "      <th></th>\n",
       "      <th>id</th>\n",
       "      <th>father_height</th>\n",
       "      <th>mother_height</th>\n",
       "      <th>boy_dummy</th>\n",
       "      <th>prediction</th>\n",
       "    </tr>\n",
       "  </thead>\n",
       "  <tbody>\n",
       "    <tr>\n",
       "      <th>0</th>\n",
       "      <td>5000</td>\n",
       "      <td>1.71</td>\n",
       "      <td>1.66</td>\n",
       "      <td>0</td>\n",
       "      <td>1.648669</td>\n",
       "    </tr>\n",
       "    <tr>\n",
       "      <th>1</th>\n",
       "      <td>5001</td>\n",
       "      <td>1.69</td>\n",
       "      <td>1.63</td>\n",
       "      <td>1</td>\n",
       "      <td>1.728932</td>\n",
       "    </tr>\n",
       "    <tr>\n",
       "      <th>2</th>\n",
       "      <td>5002</td>\n",
       "      <td>1.71</td>\n",
       "      <td>1.56</td>\n",
       "      <td>1</td>\n",
       "      <td>1.720752</td>\n",
       "    </tr>\n",
       "    <tr>\n",
       "      <th>3</th>\n",
       "      <td>5003</td>\n",
       "      <td>1.68</td>\n",
       "      <td>1.67</td>\n",
       "      <td>1</td>\n",
       "      <td>1.734120</td>\n",
       "    </tr>\n",
       "    <tr>\n",
       "      <th>4</th>\n",
       "      <td>5004</td>\n",
       "      <td>1.71</td>\n",
       "      <td>1.60</td>\n",
       "      <td>0</td>\n",
       "      <td>1.635493</td>\n",
       "    </tr>\n",
       "    <tr>\n",
       "      <th>5</th>\n",
       "      <td>5005</td>\n",
       "      <td>1.88</td>\n",
       "      <td>1.59</td>\n",
       "      <td>1</td>\n",
       "      <td>1.788472</td>\n",
       "    </tr>\n",
       "    <tr>\n",
       "      <th>6</th>\n",
       "      <td>5006</td>\n",
       "      <td>1.72</td>\n",
       "      <td>1.62</td>\n",
       "      <td>0</td>\n",
       "      <td>1.643481</td>\n",
       "    </tr>\n",
       "    <tr>\n",
       "      <th>7</th>\n",
       "      <td>5007</td>\n",
       "      <td>1.71</td>\n",
       "      <td>1.64</td>\n",
       "      <td>1</td>\n",
       "      <td>1.738320</td>\n",
       "    </tr>\n",
       "    <tr>\n",
       "      <th>8</th>\n",
       "      <td>5008</td>\n",
       "      <td>1.73</td>\n",
       "      <td>1.69</td>\n",
       "      <td>1</td>\n",
       "      <td>1.756492</td>\n",
       "    </tr>\n",
       "    <tr>\n",
       "      <th>9</th>\n",
       "      <td>5009</td>\n",
       "      <td>1.77</td>\n",
       "      <td>1.61</td>\n",
       "      <td>0</td>\n",
       "      <td>1.659265</td>\n",
       "    </tr>\n",
       "    <tr>\n",
       "      <th>10</th>\n",
       "      <td>5010</td>\n",
       "      <td>1.72</td>\n",
       "      <td>1.64</td>\n",
       "      <td>0</td>\n",
       "      <td>1.647873</td>\n",
       "    </tr>\n",
       "    <tr>\n",
       "      <th>11</th>\n",
       "      <td>5011</td>\n",
       "      <td>1.74</td>\n",
       "      <td>1.65</td>\n",
       "      <td>0</td>\n",
       "      <td>1.657261</td>\n",
       "    </tr>\n",
       "    <tr>\n",
       "      <th>12</th>\n",
       "      <td>5012</td>\n",
       "      <td>1.68</td>\n",
       "      <td>1.65</td>\n",
       "      <td>1</td>\n",
       "      <td>1.729728</td>\n",
       "    </tr>\n",
       "    <tr>\n",
       "      <th>13</th>\n",
       "      <td>5013</td>\n",
       "      <td>1.79</td>\n",
       "      <td>1.68</td>\n",
       "      <td>0</td>\n",
       "      <td>1.681829</td>\n",
       "    </tr>\n",
       "    <tr>\n",
       "      <th>14</th>\n",
       "      <td>5014</td>\n",
       "      <td>1.75</td>\n",
       "      <td>1.61</td>\n",
       "      <td>0</td>\n",
       "      <td>1.652073</td>\n",
       "    </tr>\n",
       "    <tr>\n",
       "      <th>15</th>\n",
       "      <td>5015</td>\n",
       "      <td>1.65</td>\n",
       "      <td>1.61</td>\n",
       "      <td>1</td>\n",
       "      <td>1.710156</td>\n",
       "    </tr>\n",
       "    <tr>\n",
       "      <th>16</th>\n",
       "      <td>5016</td>\n",
       "      <td>1.70</td>\n",
       "      <td>1.56</td>\n",
       "      <td>0</td>\n",
       "      <td>1.623113</td>\n",
       "    </tr>\n",
       "    <tr>\n",
       "      <th>17</th>\n",
       "      <td>5017</td>\n",
       "      <td>1.80</td>\n",
       "      <td>1.58</td>\n",
       "      <td>0</td>\n",
       "      <td>1.663465</td>\n",
       "    </tr>\n",
       "    <tr>\n",
       "      <th>18</th>\n",
       "      <td>5018</td>\n",
       "      <td>1.65</td>\n",
       "      <td>1.63</td>\n",
       "      <td>0</td>\n",
       "      <td>1.620505</td>\n",
       "    </tr>\n",
       "    <tr>\n",
       "      <th>19</th>\n",
       "      <td>5019</td>\n",
       "      <td>1.71</td>\n",
       "      <td>1.69</td>\n",
       "      <td>0</td>\n",
       "      <td>1.655258</td>\n",
       "    </tr>\n",
       "  </tbody>\n",
       "</table>\n",
       "</div>"
      ],
      "text/plain": [
       "      id  father_height  mother_height  boy_dummy  prediction\n",
       "0   5000           1.71           1.66          0    1.648669\n",
       "1   5001           1.69           1.63          1    1.728932\n",
       "2   5002           1.71           1.56          1    1.720752\n",
       "3   5003           1.68           1.67          1    1.734120\n",
       "4   5004           1.71           1.60          0    1.635493\n",
       "5   5005           1.88           1.59          1    1.788472\n",
       "6   5006           1.72           1.62          0    1.643481\n",
       "7   5007           1.71           1.64          1    1.738320\n",
       "8   5008           1.73           1.69          1    1.756492\n",
       "9   5009           1.77           1.61          0    1.659265\n",
       "10  5010           1.72           1.64          0    1.647873\n",
       "11  5011           1.74           1.65          0    1.657261\n",
       "12  5012           1.68           1.65          1    1.729728\n",
       "13  5013           1.79           1.68          0    1.681829\n",
       "14  5014           1.75           1.61          0    1.652073\n",
       "15  5015           1.65           1.61          1    1.710156\n",
       "16  5016           1.70           1.56          0    1.623113\n",
       "17  5017           1.80           1.58          0    1.663465\n",
       "18  5018           1.65           1.63          0    1.620505\n",
       "19  5019           1.71           1.69          0    1.655258"
      ]
     },
     "execution_count": 9,
     "metadata": {},
     "output_type": "execute_result"
    }
   ],
   "source": [
    "test[:20]"
   ]
  },
  {
   "cell_type": "code",
   "execution_count": null,
   "metadata": {},
   "outputs": [],
   "source": [
    "\n",
    "test.to_csv(\"data.csv\")"
   ]
  }
 ],
 "metadata": {
  "kernelspec": {
   "display_name": "Python 3",
   "language": "python",
   "name": "python3"
  },
  "language_info": {
   "codemirror_mode": {
    "name": "ipython",
    "version": 3
   },
   "file_extension": ".py",
   "mimetype": "text/x-python",
   "name": "python",
   "nbconvert_exporter": "python",
   "pygments_lexer": "ipython3",
   "version": "3.7.1"
  }
 },
 "nbformat": 4,
 "nbformat_minor": 2
}
