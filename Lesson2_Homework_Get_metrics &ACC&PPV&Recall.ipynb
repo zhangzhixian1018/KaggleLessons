{
 "cells": [
  {
   "cell_type": "code",
   "execution_count": null,
   "metadata": {},
   "outputs": [],
   "source": [
    "import pandas as pd\n",
    "import numpy as np\n",
    "import matplotlib.pyplot as plt\n",
    "from sklearn.linear_model import LinearRegression\n",
    "%matplotlib inline \n"
   ]
  },
  {
   "cell_type": "code",
   "execution_count": 6,
   "metadata": {},
   "outputs": [],
   "source": [
    "def get_TP(y_true, y_pred):\n",
    "    # Ture Positive:ounts the number of true positives (y_true = 1, y_pred = 1).\n",
    "    return sum((y_true==1)&(y_pred==1))\n",
    "\n",
    "\n",
    "def get_FP(y_true, y_pred):\n",
    "    # False Positive:ounts the number of false positives (y_true = 0, y_pred = 1).\n",
    "    return sum((y_true==0)&(y_pred==1))\n",
    "\n",
    "\n",
    "def get_FN(y_true, y_pred):\n",
    "    # False Negative:ounts the number of false negative (y_true = 1, y_pred = 0).\n",
    "    return sum((y_true==1)&(y_pred==0))\n",
    "\n",
    "\n",
    "def get_TN(y_true, y_pred):\n",
    "    # True Negative:ounts the number of ture negative (y_true = 0, y_pred = 0).\n",
    "    return sum((y_true==0)&(y_pred==0))"
   ]
  },
  {
   "cell_type": "code",
   "execution_count": null,
   "metadata": {},
   "outputs": [],
   "source": [
    "def get_confusion_matrix(y_true, y_pred):\n",
    "    TP = get_TP(y_true, y_pred)\n",
    "    FN = get_FN(y_true, y_pred)\n",
    "    FP = get_FP(y_true, y_pred)\n",
    "    TN = get_TN(y_true, y_pred)\n",
    "    return np.array([[TN, FP],[FN, TP]])"
   ]
  },
  {
   "cell_type": "code",
   "execution_count": null,
   "metadata": {},
   "outputs": [],
   "source": [
    "def get_accuracy_score(y_true, y_pred):\n",
    "    # calculates the fraction of samples predicted correctly\n",
    "    TP = get_TP(y_true, y_pred)\n",
    "    FN = get_FN(y_true, y_pred)\n",
    "    FP = get_FP(y_true, y_pred)\n",
    "    TN = get_TN(y_true, y_pred)\n",
    "    ACC = (TP + TN)/(TP + FP + FN + TN)\n",
    "    return ACC"
   ]
  },
  {
   "cell_type": "code",
   "execution_count": null,
   "metadata": {},
   "outputs": [],
   "source": [
    "def get_precision_score(y_true, y_pred):\n",
    "    # calculates the fraction of predicted positives samples that are actually positive\n",
    "    TP = get_TP(y_true, y_pred)\n",
    "    FN = get_FN(y_true, y_pred)\n",
    "    FP = get_FP(y_true, y_pred)\n",
    "    TN = get_TN(y_true, y_pred)\n",
    "    PPV = TP /(TP + FP)\n",
    "    return PPV"
   ]
  },
  {
   "cell_type": "code",
   "execution_count": null,
   "metadata": {},
   "outputs": [],
   "source": [
    "def get_recall_score(y_true, y_pred):\n",
    "    # calculates the fraction of positive samples predicted correctly\n",
    "    TP = get_TP(y_true, y_pred)\n",
    "    FN = get_FN(y_true, y_pred)\n",
    "    FP = get_FP(y_true, y_pred)\n",
    "    TN = get_TN(y_true, y_pred)\n",
    "    RECALL = TP /(TP + FN)\n",
    "    return RECALL"
   ]
  },
  {
   "cell_type": "code",
   "execution_count": null,
   "metadata": {},
   "outputs": [],
   "source": [
    "def get_f1_score(y_true, y_pred):\n",
    "    # calculates the fraction of samples predicted correctly\n",
    "    PPV = get_precision_score(y_true, y_pred)\n",
    "    RECALL = get_recall_score(y_true, y_pred)\n",
    "    F1_Score = (2* PPV * RECALL)/(PPV + RECALL)\n",
    "    return F1_Score"
   ]
  },
  {
   "cell_type": "code",
   "execution_count": null,
   "metadata": {},
   "outputs": [],
   "source": []
  }
 ],
 "metadata": {
  "kernelspec": {
   "display_name": "Python 3",
   "language": "python",
   "name": "python3"
  },
  "language_info": {
   "codemirror_mode": {
    "name": "ipython",
    "version": 3
   },
   "file_extension": ".py",
   "mimetype": "text/x-python",
   "name": "python",
   "nbconvert_exporter": "python",
   "pygments_lexer": "ipython3",
   "version": "3.7.1"
  }
 },
 "nbformat": 4,
 "nbformat_minor": 2
}
